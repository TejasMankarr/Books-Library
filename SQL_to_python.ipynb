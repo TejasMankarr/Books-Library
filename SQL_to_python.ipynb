{
  "nbformat": 4,
  "nbformat_minor": 0,
  "metadata": {
    "colab": {
      "provenance": [],
      "authorship_tag": "ABX9TyPW4DkZteziTsCNuYQhtRNL",
      "include_colab_link": true
    },
    "kernelspec": {
      "name": "python3",
      "display_name": "Python 3"
    },
    "language_info": {
      "name": "python"
    }
  },
  "cells": [
    {
      "cell_type": "markdown",
      "metadata": {
        "id": "view-in-github",
        "colab_type": "text"
      },
      "source": [
        "<a href=\"https://colab.research.google.com/github/TejasMankarr/Books-Library/blob/master/SQL_to_python.ipynb\" target=\"_parent\"><img src=\"https://colab.research.google.com/assets/colab-badge.svg\" alt=\"Open In Colab\"/></a>"
      ]
    },
    {
      "cell_type": "code",
      "source": [
        "import pandas as pd\n",
        "\n",
        "# Sample data based on the provided SQL table and data\n",
        "data = {\n",
        "    'review_id': [1001, 1002, 1003, 1004, 1005, 1006, 1007, 1008],\n",
        "    'user_id': [501, 502, 503, 504, 505, 506, 507, 508],\n",
        "    'submit_date': pd.to_datetime(['2022-01-15', '2022-01-20', '2022-01-25', '2022-01-15',\n",
        "                                   '2022-02-20', '2022-02-26', '2022-03-01', '2022-03-05']),\n",
        "    'restaurant_id': [101, 101, 102, 102, 101, 101, 101, 102],\n",
        "    'rating': [4, 5, 3, 4, 5, 4, 4, 2]\n",
        "}\n",
        "\n",
        "# Create DataFrame\n",
        "df = pd.DataFrame(data)\n",
        "\n",
        "# Extract month from submit_date\n",
        "df['month'] = df['submit_date'].dt.month\n",
        "\n",
        "# Group by month and restaurant_id, filter groups with count >= 2, and calculate the average rating\n",
        "result = (\n",
        "    df.groupby(['month', 'restaurant_id'])\n",
        "    .filter(lambda x: len(x) >= 2)  # Equivalent of HAVING COUNT(*) >= 2\n",
        "    .groupby(['month', 'restaurant_id'])['rating']\n",
        "    .mean()\n",
        "    .reset_index(name='avg_rating')\n",
        "    .sort_values(by=['month', 'restaurant_id'])\n",
        ")\n",
        "\n",
        "print(result)\n"
      ],
      "metadata": {
        "id": "96EktM8uHhPQ",
        "outputId": "bbe258eb-5701-484a-f675-c277bf98b4a2",
        "colab": {
          "base_uri": "https://localhost:8080/"
        }
      },
      "execution_count": 42,
      "outputs": [
        {
          "output_type": "stream",
          "name": "stdout",
          "text": [
            "   month  restaurant_id  avg_rating\n",
            "0      1            101         4.5\n",
            "1      1            102         3.5\n",
            "2      2            101         4.5\n"
          ]
        }
      ]
    }
  ]
}